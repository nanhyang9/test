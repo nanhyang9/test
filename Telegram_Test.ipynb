{
 "cells": [
  {
   "cell_type": "code",
   "execution_count": 50,
   "metadata": {},
   "outputs": [
    {
     "data": {
      "text/plain": [
       "<telegram.message.Message at 0x7fd2e15f5f10>"
      ]
     },
     "execution_count": 50,
     "metadata": {},
     "output_type": "execute_result"
    }
   ],
   "source": [
    "## nanhyang9\n",
    "\n",
    "import telegram\n",
    "telgm_token = '1302217651:AAH0XPG3LGOkpWq1mePUlfv6LGHiPgOaqA8'\n",
    "bot = telegram.Bot(token=telgm_token)\n",
    "bot.sendMessage(chat_id='1388373499', text='Message Preview')"
   ]
  },
  {
   "cell_type": "code",
   "execution_count": 59,
   "metadata": {},
   "outputs": [
    {
     "data": {
      "text/plain": [
       "<telegram.message.Message at 0x7fd2e161acd0>"
      ]
     },
     "execution_count": 59,
     "metadata": {},
     "output_type": "execute_result"
    }
   ],
   "source": [
    "## kyle00991\n",
    "\n",
    "import telegram\n",
    "telgm_token = '2025914940:AAEAJmTVeKCq1w6Ph219foBymhiSZ7DtyuQ'\n",
    "bot = telegram.Bot(token=telgm_token)\n",
    "bot.sendMessage(chat_id='1923632946', text='TEST for kyle00991')"
   ]
  },
  {
   "cell_type": "code",
   "execution_count": null,
   "metadata": {},
   "outputs": [],
   "source": []
  }
 ],
 "metadata": {
  "kernelspec": {
   "display_name": "Python 3",
   "language": "python",
   "name": "python3"
  },
  "language_info": {
   "codemirror_mode": {
    "name": "ipython",
    "version": 3
   },
   "file_extension": ".py",
   "mimetype": "text/x-python",
   "name": "python",
   "nbconvert_exporter": "python",
   "pygments_lexer": "ipython3",
   "version": "3.7.9"
  }
 },
 "nbformat": 4,
 "nbformat_minor": 4
}
